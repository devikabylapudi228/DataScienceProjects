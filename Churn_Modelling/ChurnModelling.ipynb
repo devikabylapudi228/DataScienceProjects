{
  "cells": [
    {
      "cell_type": "code",
      "execution_count": null,
      "metadata": {
        "id": "VVhDs5oQ8qQ7"
      },
      "outputs": [],
      "source": [
        "import pandas as pd\n",
        "import numpy as np\n",
        "import matplotlib.pyplot as plt"
      ]
    },
    {
      "cell_type": "code",
      "execution_count": null,
      "metadata": {
        "id": "eNUonHUL8rAl"
      },
      "outputs": [],
      "source": [
        "from matplotlib.colors import ListedColormap\n",
        "cmap_bold = ListedColormap(['#FF0000','#0000FF'])\n",
        "cmap_light = ListedColormap(['#FFBBBB','#BBBBFF'])"
      ]
    },
    {
      "cell_type": "code",
      "execution_count": null,
      "metadata": {
        "id": "1CxkVARB8tLq"
      },
      "outputs": [],
      "source": [
        "# Step 1: Load the dataset\n",
        "data = pd.read_csv(\"/content/Churn_Modelling - Churn_Modelling.csv\")"
      ]
    },
    {
      "cell_type": "code",
      "execution_count": null,
      "metadata": {
        "id": "4j5aQ3OM7wp-"
      },
      "outputs": [],
      "source": [
        "# Step 2: Data preprocessing\n",
        "# Encode categorical variables\n",
        "data['Gender'] = data['Gender'].map({'Female': 0, 'Male': 1})  # Encode Gender\n",
        "data = pd.get_dummies(data, columns=['Geography'])  # One-hot encoding for Geography\n",
        "\n",
        "# Select features and target variable\n",
        "X = data[['CreditScore', 'Age', 'Tenure', 'Balance', 'NumOfProducts',\n",
        "          'HasCrCard', 'IsActiveMember', 'EstimatedSalary', 'Gender',\n",
        "          'Geography_France', 'Geography_Germany', 'Geography_Spain']].values\n",
        "y = data['Exited'].values.reshape(-1, 1)  # Reshape y for matrix operations\n",
        "\n",
        "# Normalize features\n",
        "X = X.astype(np.float64)\n",
        "X = (X - np.mean(X, axis=0)) / np.std(X, axis=0)\n"
      ]
    },
    {
      "cell_type": "code",
      "execution_count": null,
      "metadata": {
        "id": "kLNYRiB5811M"
      },
      "outputs": [],
      "source": [
        "def sigmoid(h):\n",
        "    return 1/(1+np.exp(-h))\n",
        "\n",
        "def bin_cross_entropy(y,p_hat):\n",
        "    return -(1/len(y))*np.sum(y*np.log(p_hat)+(1-y)*np.log(1-p_hat))\n",
        "\n",
        "def accuracy(y,y_hat):\n",
        "    return np.mean(y==y_hat)"
      ]
    },
    {
      "cell_type": "code",
      "execution_count": null,
      "metadata": {
        "id": "5CtJphBS8kWv"
      },
      "outputs": [],
      "source": [
        "class LogisticRegression():\n",
        "    def __init__(self,thresh=0.5):\n",
        "        self.thresh=thresh\n",
        "        self.W = None\n",
        "        self.b = None\n",
        "\n",
        "    def fit(self,X,y,eta=1e-3,epochs=1e3,show_curve=True):\n",
        "        epochs = int(epochs)\n",
        "        N,D = X.shape\n",
        "\n",
        "        #Initailize Weights and Biases\n",
        "        self.W = np.random.randn(D)\n",
        "        self.b = np.random.randn(1)\n",
        "        J = np.zeros(epochs)\n",
        "\n",
        "        #Stochastic Gradient Descent\n",
        "        for epoch in range(epochs):\n",
        "            p_hat = self.__forward__(X)\n",
        "            J[epoch] = bin_cross_entropy(y,p_hat)\n",
        "\n",
        "            #WeightUpdate Rules\n",
        "            error = (p_hat - y.ravel())\n",
        "            self.W -= eta*(1/N)*X.T@error\n",
        "            self.b -= eta*(1/N)*np.sum(error)\n",
        "        if show_curve:\n",
        "            plt.figure()\n",
        "            plt.plot(J)\n",
        "            plt.xlabel(\"epochs\")\n",
        "            plt.ylabel(\"$\\mathcal{J}$\")\n",
        "            plt.title(\"Training Curve\")\n",
        "            plt.show()\n",
        "\n",
        "    def __forward__(self,X):\n",
        "        return sigmoid(X@self.W+self.b)\n",
        "\n",
        "    def predict(self,X):\n",
        "        return (self.__forward__(X)>= self.thresh).astype(np.int32)"
      ]
    },
    {
      "cell_type": "code",
      "execution_count": null,
      "metadata": {
        "colab": {
          "background_save": true
        },
        "id": "MwKFYGERB0Fm",
        "outputId": "6ed0b219-c80c-44fb-dbb9-2737edac9d43"
      },
      "outputs": [
        {
          "data": {
            "image/png": "[encoded data removed]",
            "text/plain": [
              "<Figure size 640x480 with 1 Axes>"
            ]
          },
          "metadata": {},
          "output_type": "display_data"
        },
        {
          "name": "stdout",
          "output_type": "stream",
          "text": [
            "Training Accuracy: 0.7528\n",
            "[-0.06457684  0.76219181 -0.04609227  0.16450587 -0.05903227 -0.02034948\n",
            " -0.53715938  0.02763329 -0.26304535 -0.35818206  0.02522075 -0.29403544] [-1.6530254]\n"
          ]
        }
      ],
      "source": [
        "log_reg = LogisticRegression()\n",
        "log_reg.fit(X,y, epochs =1e4, eta=1e-2, show_curve=True)\n",
        "y_hat = log_reg.predict(X)\n",
        "print(f\"Training Accuracy: {accuracy(y,y_hat):0.4f}\")\n",
        "print(log_reg.W,log_reg.b)"
      ]
    }
  ],
  "metadata": {
    "colab": {
      "provenance": []
    },
    "kernelspec": {
      "display_name": "Python 3",
      "name": "python3"
    },
    "language_info": {
      "name": "python"
    }
  },
  "nbformat": 4,
  "nbformat_minor": 0
}
